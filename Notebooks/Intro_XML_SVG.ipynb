{
 "cells": [
  {
   "cell_type": "markdown",
   "id": "214b0ea4",
   "metadata": {},
   "source": [
    "\n",
    "# **Introduction to XML and SVG**\n",
    "\n",
    "---\n",
    "\n",
    "## **Recap: XML Syntax and Handling**\n",
    "\n",
    "XML is a versatile markup language designed to store and transport data. It uses a tag-based structure to define elements and their relationships, making it both human-readable and machine-readable.\n",
    "\n",
    "### **Key XML Concepts**\n",
    "1. **Elements**: Building blocks of XML, defined with opening and closing tags.\n",
    "   ```xml\n",
    "   <tag>Content</tag>\n",
    "   ```\n",
    "2. **Attributes**: Provide additional information about elements.\n",
    "   ```xml\n",
    "   <tag attribute=\"value\">Content</tag>\n",
    "   ```\n",
    "3. **Hierarchy**: XML follows a tree structure.\n",
    "   ```xml\n",
    "   <parent>\n",
    "       <child>Content</child>\n",
    "   </parent>\n",
    "   ```"
   ]
  },
  {
   "cell_type": "markdown",
   "id": "1193672c",
   "metadata": {},
   "source": [
    "## Example: Book Library\n",
    "\n",
    "Let’s use the following XML structure, representing a book library, for all subsequent examples:\n",
    "```\n",
    "<library>\n",
    "    <book>\n",
    "        <title>Python Programming</title>\n",
    "        <author>John Smith</author>\n",
    "        <isbn>123456789</isbn>\n",
    "        <price>29.99</price>\n",
    "    </book>\n",
    "    <book>\n",
    "        <title>Data Science Essentials</title>\n",
    "        <author>Jane Doe</author>\n",
    "        <isbn>987654321</isbn>\n",
    "        <price>49.99</price>\n",
    "    </book>\n",
    "</library>\n",
    "```\n"
   ]
  },
  {
   "cell_type": "markdown",
   "id": "9f0a10ce",
   "metadata": {},
   "source": [
    "### Exercise:\n",
    "Add manually the following book to the xmal data:\n",
    "* Blockchain: Blueprint for a New Economy, by Melanie Swan, isbn: 9781491920497, price: 5.49"
   ]
  },
  {
   "cell_type": "markdown",
   "id": "074316ec",
   "metadata": {},
   "source": [
    "```xml\n",
    "<book>\n",
    "#xml code here!\n",
    "</book>\n",
    "```"
   ]
  },
  {
   "cell_type": "markdown",
   "id": "9cba6d4e",
   "metadata": {},
   "source": [
    "### **Handling XML in Python**\n",
    "\n",
    "#### **Parsing XML**\n",
    "\n"
   ]
  },
  {
   "cell_type": "code",
   "execution_count": null,
   "id": "bd35eab1",
   "metadata": {},
   "outputs": [],
   "source": []
  },
  {
   "cell_type": "markdown",
   "id": "4eba8ad0",
   "metadata": {},
   "source": [
    "\n",
    "#### **Modifying XML**\n",
    "You can update elements:\n"
   ]
  },
  {
   "cell_type": "code",
   "execution_count": null,
   "id": "b2269280",
   "metadata": {},
   "outputs": [],
   "source": []
  },
  {
   "cell_type": "markdown",
   "id": "fcc8c2d3",
   "metadata": {},
   "source": [
    "\n",
    "### Adding Elements to XML\n",
    "You can add new elements to the XML tree dynamically.\n",
    "\n",
    "\n",
    "##### Let us add this book using a function: \"Machine Learning Basics\",Author: \"Alice Johnson\", ISBN: \"1122334455\", Price: 59.99.\n",
    "\n"
   ]
  },
  {
   "cell_type": "markdown",
   "id": "ac3a9254",
   "metadata": {},
   "source": [
    "---\n",
    "\n",
    "## **Introduction to SVG**\n",
    "\n",
    "Scalable Vector Graphics (SVG) is an XML-based format for two-dimensional graphics. SVG is widely used in web development for creating interactive, responsive, and scalable graphics.\n",
    "\n",
    "### **Why SVG?**\n",
    "- **Scalable**: Graphics retain quality at any size.\n",
    "- **Editable**: Text-based XML format makes it easy to manipulate.\n",
    "- **Interactive**: Supports animations and event handling."
   ]
  },
  {
   "cell_type": "markdown",
   "id": "209f57eb",
   "metadata": {},
   "source": [
    "### Complete SVG Example:\n",
    "\n",
    "```xml\n",
    "<svg width=\"500\" height=\"500\" xmlns=\"http://www.w3.org/2000/svg\">\n",
    "  <!-- Circle -->\n",
    "  <circle cx=\"100\" cy=\"100\" r=\"50\" fill=\"red\" />\n",
    "\n",
    "  <!-- Rectangle -->\n",
    "  <rect x=\"200\" y=\"50\" width=\"100\" height=\"100\" fill=\"blue\" stroke=\"black\" stroke-width=\"5\" />\n",
    "\n",
    "  <!-- Line -->\n",
    "  <line x1=\"50\" y1=\"200\" x2=\"200\" y2=\"200\" stroke=\"green\" stroke-width=\"3\" />\n",
    "\n",
    "  <!-- Path -->\n",
    "  <path d=\"M 250 250 Q 300 300 350 250 T 450 250\" fill=\"transparent\" stroke=\"purple\" stroke-width=\"4\" />\n",
    "\n",
    "  <!-- Text -->\n",
    "  <text x=\"100\" y=\"400\" font-family=\"Arial\" font-size=\"24\" fill=\"black\">SVG Example</text>\n",
    "</svg>\n",
    "```\n",
    "\n",
    "### Explanation of the XML Elements:\n",
    "\n",
    "1. **`<svg>`**:\n",
    "   - The root element of the SVG document, defining the area where all graphics are drawn.\n",
    "   - `width=\"500\"` and `height=\"500\"` specify the canvas size (500x500 pixels).\n",
    "   - `xmlns=\"http://www.w3.org/2000/svg\"` is the XML namespace for SVG.\n",
    "\n",
    "2. **`<circle>`**:\n",
    "   - A circle element with `cx=\"100\"` (x-coordinate of the center), `cy=\"100\"` (y-coordinate of the center), and `r=\"50\"` (radius).\n",
    "   - `fill=\"red\"` gives the circle its color.\n",
    "   \n",
    "3. **`<rect>`**:\n",
    "   - A rectangle element.\n",
    "   - `x=\"200\"` and `y=\"50\"` specify the top-left corner of the rectangle.\n",
    "   - `width=\"100\"` and `height=\"100\"` define the size of the rectangle.\n",
    "   - `fill=\"blue\"` gives the rectangle a blue color.\n",
    "   - `stroke=\"black\"` adds a black border around the rectangle.\n",
    "   - `stroke-width=\"5\"` sets the thickness of the border.\n",
    "\n",
    "4. **`<line>`**:\n",
    "   - A line element.\n",
    "   - `x1=\"50\" y1=\"200\"` specify the starting point of the line.\n",
    "   - `x2=\"200\" y2=\"200\"` specify the ending point of the line.\n",
    "   - `stroke=\"green\"` sets the line color to green.\n",
    "   - `stroke-width=\"3\"` defines the thickness of the line.\n",
    "\n",
    "5. **`<path>`**:\n",
    "   - A path element that creates a complex shape.\n",
    "   - The `d=\"M 250 250 Q 300 300 350 250 T 450 250\"` attribute defines the path's instructions:\n",
    "     - `M 250 250` moves the pen to coordinates (250, 250).\n",
    "     - `Q 300 300 350 250` creates a quadratic Bezier curve.\n",
    "     - `T 450 250` creates a smooth curve to the point (450, 250).\n",
    "   - `fill=\"transparent\"` means the path has no fill color.\n",
    "   - `stroke=\"purple\"` gives the path a purple outline.\n",
    "   - `stroke-width=\"4\"` sets the line thickness of the path.\n",
    "\n",
    "6. **`<text>`**:\n",
    "   - A text element that renders text on the SVG canvas.\n",
    "   - `x=\"100\" y=\"400\"` specifies the position of the text.\n",
    "   - `font-family=\"Arial\"` sets the font to Arial.\n",
    "   - `font-size=\"24\"` sets the font size to 24 pixels.\n",
    "   - `fill=\"black\"` gives the text a black color.\n",
    "\n",
    "### How to Manipulate Each Element:\n",
    "- **Circle**: Change the `cx`, `cy`, or `r` values to modify the position and size. You can also adjust the `fill` to change its color.\n",
    "- **Rectangle**: Modify `x`, `y`, `width`, `height`, and `stroke-width` for positioning, size, and border thickness.\n",
    "- **Line**: Change the coordinates (`x1`, `y1`, `x2`, `y2`) to move the line, and adjust `stroke` and `stroke-width` for color and thickness.\n",
    "- **Path**: Modify the `d` attribute for different shapes and curves. You can also change the `stroke` and `fill` for the path's appearance.\n",
    "- **Text**: Adjust `x`, `y`, `font-size`, `font-family`, and `fill` to change the text's appearance and position.\n",
    "\n",
    "This expanded SVG example demonstrates how multiple basic elements work together to create an illustration. You can use this format to create more complex, interactive, and scalable graphics."
   ]
  },
  {
   "cell_type": "markdown",
   "id": "22ab4169",
   "metadata": {},
   "source": [
    "\n",
    "## **Creating SVGs with Python**\n",
    "\n",
    "Python's `xml.etree.ElementTree` can also create SVGs. Each SVG element (like `<rect>`, `<circle>`, etc.) is defined as an XML tag.\n",
    "\n",
    "\n"
   ]
  },
  {
   "cell_type": "markdown",
   "id": "b8746bc8",
   "metadata": {},
   "source": [
    "### **Example 1: Rectangle**\n"
   ]
  },
  {
   "cell_type": "code",
   "execution_count": null,
   "id": "9058ae00",
   "metadata": {},
   "outputs": [],
   "source": []
  },
  {
   "cell_type": "markdown",
   "id": "5c591838",
   "metadata": {},
   "source": [
    "### **Example 2: Triangle**\n",
    "\n"
   ]
  },
  {
   "cell_type": "code",
   "execution_count": null,
   "id": "c9191b37",
   "metadata": {},
   "outputs": [],
   "source": []
  },
  {
   "cell_type": "markdown",
   "id": "2339c853",
   "metadata": {},
   "source": [
    "\n",
    "## **SVG Components Explained**\n",
    "\n",
    "### **Basic SVG Elements**\n",
    "1. **`<svg>`**: Root container for SVG content.\n",
    "   - `width` and `height`: Define the canvas size.\n",
    "   - `xmlns`: Specifies the SVG namespace.\n",
    "\n",
    "2. **Shapes**:\n",
    "   - **Rectangle (`<rect>`)**: Represents a rectangle.\n",
    "     ```xml\n",
    "     <rect x=\"10\" y=\"10\" width=\"80\" height=\"80\" fill=\"blue\"/>\n",
    "     ```\n",
    "   - **Circle (`<circle>`)**: Represents a circle.\n",
    "     ```xml\n",
    "     <circle cx=\"50\" cy=\"50\" r=\"40\" fill=\"red\"/>\n",
    "     ```\n",
    "   - **Line (`<line>`)**: Represents a straight line.\n",
    "     ```xml\n",
    "     <line x1=\"10\" y1=\"10\" x2=\"90\" y2=\"90\" stroke=\"black\" stroke-width=\"2\"/>\n",
    "     ```\n"
   ]
  },
  {
   "cell_type": "markdown",
   "id": "e6862a4c",
   "metadata": {},
   "source": [
    "### **Example: Line**\n",
    "\n",
    "\n"
   ]
  },
  {
   "cell_type": "code",
   "execution_count": null,
   "id": "4ba6250b",
   "metadata": {},
   "outputs": [],
   "source": []
  },
  {
   "cell_type": "markdown",
   "id": "c169e69e",
   "metadata": {},
   "source": [
    "\n",
    "## **Customizing SVG: Interactive Graphics**\n",
    "\n",
    "### **Example: Simple Face**\n",
    "\n"
   ]
  },
  {
   "cell_type": "code",
   "execution_count": null,
   "id": "5c8c55b2",
   "metadata": {},
   "outputs": [],
   "source": []
  },
  {
   "cell_type": "markdown",
   "id": "9dfbe8b3",
   "metadata": {},
   "source": [
    "\n",
    "### **Color Code Table**\n",
    "\n",
    "| **Color Name** | **HEX Code** | **RGB**                   | **HSL**                     |\n",
    "|----------------|--------------|---------------------------|-----------------------------|\n",
    "| **Black**      | `#000000`    | `rgb(0, 0, 0)`            | `hsl(0, 0%, 0%)`            |\n",
    "| **White**      | `#FFFFFF`    | `rgb(255, 255, 255)`      | `hsl(0, 0%, 100%)`          |\n",
    "| **Red**        | `#FF0000`    | `rgb(255, 0, 0)`          | `hsl(0, 100%, 50%)`         |\n",
    "| **Green**      | `#008000`    | `rgb(0, 128, 0)`          | `hsl(120, 100%, 25%)`       |\n",
    "| **Blue**       | `#0000FF`    | `rgb(0, 0, 255)`          | `hsl(240, 100%, 50%)`       |\n",
    "| **Yellow**     | `#FFFF00`    | `rgb(255, 255, 0)`        | `hsl(60, 100%, 50%)`        |\n",
    "| **Cyan**       | `#00FFFF`    | `rgb(0, 255, 255)`        | `hsl(180, 100%, 50%)`       |\n",
    "| **Magenta**    | `#FF00FF`    | `rgb(255, 0, 255)`        | `hsl(300, 100%, 50%)`       |\n",
    "| **Gray**       | `#808080`    | `rgb(128, 128, 128)`      | `hsl(0, 0%, 50%)`           |\n",
    "| **Light Gray** | `#D3D3D3`    | `rgb(211, 211, 211)`      | `hsl(0, 0%, 83%)`           |\n",
    "| **Dark Gray**  | `#A9A9A9`    | `rgb(169, 169, 169)`      | `hsl(0, 0%, 66%)`           |\n",
    "| **Orange**     | `#FFA500`    | `rgb(255, 165, 0)`        | `hsl(39, 100%, 50%)`        |\n",
    "| **Pink**       | `#FFC0CB`    | `rgb(255, 192, 203)`      | `hsl(350, 100%, 88%)`       |\n",
    "| **Purple**     | `#800080`    | `rgb(128, 0, 128)`        | `hsl(300, 100%, 25%)`       |\n",
    "| **Brown**      | `#A52A2A`    | `rgb(165, 42, 42)`        | `hsl(0, 59%, 41%)`          |\n",
    "| **Lime**       | `#00FF00`    | `rgb(0, 255, 0)`          | `hsl(120, 100%, 50%)`       |\n",
    "| **Teal**       | `#008080`    | `rgb(0, 128, 128)`        | `hsl(180, 100%, 25%)`       |\n",
    "| **Navy**       | `#000080`    | `rgb(0, 0, 128)`          | `hsl(240, 100%, 25%)`       |\n",
    "| **Gold**       | `#FFD700`    | `rgb(255, 215, 0)`        | `hsl(51, 100%, 50%)`        |\n",
    "| **Olive**      | `#808000`    | `rgb(128, 128, 0)`        | `hsl(60, 100%, 25%)`        |\n",
    "\n"
   ]
  },
  {
   "cell_type": "markdown",
   "id": "70292f00",
   "metadata": {},
   "source": [
    "## **SVG Layers**\n",
    "\n",
    "In SVG, layers are implemented using the `<g>` (group) element. Grouping elements into layers makes it easier to manipulate multiple elements simultaneously and organize your SVG content more effectively. You can think of each `<g>` element as a layer, which can contain shapes, paths, text, and other SVG elements.\n",
    "\n",
    "### **Key Benefits of SVG Layers**\n",
    "1. **Organization**: Layers help keep complex SVGs manageable by grouping related elements.\n",
    "2. **Reusability**: Layers can be styled, transformed, or reused as a single unit.\n",
    "3. **Interactivity**: Layers can be targeted individually for animations or interactions."
   ]
  },
  {
   "cell_type": "markdown",
   "id": "ad720c10",
   "metadata": {},
   "source": [
    "### **Creating Layers in SVG**\n",
    "\n",
    "Here’s an example of an SVG with multiple layers:\n"
   ]
  },
  {
   "cell_type": "code",
   "execution_count": null,
   "id": "44b4eeef",
   "metadata": {},
   "outputs": [],
   "source": []
  },
  {
   "cell_type": "markdown",
   "id": "0a41bf2e",
   "metadata": {},
   "source": [
    "### **Using Python to Create Layers**\n",
    "\n",
    "We can dynamically create layers in Python using the `xml.etree.ElementTree` module.\n",
    "\n",
    "#### **Example: SVG with Layers**\n",
    "\n"
   ]
  },
  {
   "cell_type": "code",
   "execution_count": null,
   "id": "f8f071c4",
   "metadata": {},
   "outputs": [],
   "source": []
  },
  {
   "cell_type": "markdown",
   "id": "eee59429",
   "metadata": {},
   "source": [
    "### **Styling and Transforming Layers**\n",
    "\n",
    "SVG layers (`<g>` elements) can be styled or transformed as a group. For example:\n",
    "- You can apply transformations (e.g., scaling, rotation) to an entire layer.\n",
    "- You can hide or show a layer by setting its `display` or `visibility` property.\n",
    "\n",
    "#### **Example: Layer Transformation**\n",
    "\n",
    "\n"
   ]
  },
  {
   "cell_type": "code",
   "execution_count": null,
   "id": "caf5415d",
   "metadata": {},
   "outputs": [],
   "source": []
  },
  {
   "cell_type": "markdown",
   "id": "106e5f56",
   "metadata": {},
   "source": [
    "In the example above:\n",
    "- The `<g>` element applies a rotation transformation to the rectangle and circle as a group."
   ]
  },
  {
   "cell_type": "markdown",
   "id": "b279fa28",
   "metadata": {},
   "source": [
    "### **Example: Layered SVG with Python**\n"
   ]
  },
  {
   "cell_type": "code",
   "execution_count": null,
   "id": "d6095fee",
   "metadata": {},
   "outputs": [],
   "source": []
  },
  {
   "cell_type": "markdown",
   "id": "412c7657",
   "metadata": {},
   "source": [
    "\n",
    "## **Bridge to Inkscape**\n",
    "\n",
    "Inkscape is a powerful, open-source vector graphics editor. The SVG files you create programmatically in Python can be opened and further customized in Inkscape. Here's how:\n",
    "1. Save your SVG string to a file:\n",
    "   ```python\n",
    "   with open(\"example.svg\", \"w\") as file:\n",
    "       file.write(create_svg_rectangle())\n",
    "   ```\n",
    "2. Open the file in Inkscape for advanced editing.\n"
   ]
  },
  {
   "cell_type": "markdown",
   "id": "a8abb9df",
   "metadata": {},
   "source": [
    "\n",
    "## **Exercises**\n",
    "\n",
    "### **XML Exercises**\n",
    "1. Parse the following XML and extract all book titles:\n",
    "   ```xml\n",
    "   <library>\n",
    "       <book><title>Python Basics</title></book>\n",
    "       <book><title>Data Science Essentials</title></book>\n",
    "   </library>\n",
    "   ```\n",
    "\n",
    "2. Modify the price of a book with a specific title.\n"
   ]
  },
  {
   "cell_type": "markdown",
   "id": "f8aa7bd9",
   "metadata": {},
   "source": [
    "### **SVG Exercises**\n",
    "1. Create an SVG with:\n",
    "   - A green rectangle.\n",
    "   - A red circle overlapping the rectangle.\n",
    "2. Customize the triangle example by adding a stroke color and width.\n",
    "\n",
    "3. Create an SVG with your name written as text in the center.\n",
    "\n",
    "4. Create a Layered SVG:\n",
    "   - Create an SVG with the following layers:\n",
    "     - A background layer with a light blue rectangle.\n",
    "     - A middle layer containing a red triangle.\n",
    "     - A top layer with two overlapping circles (yellow and green)."
   ]
  },
  {
   "cell_type": "code",
   "execution_count": null,
   "id": "f4c8f0bb",
   "metadata": {},
   "outputs": [],
   "source": []
  },
  {
   "cell_type": "markdown",
   "id": "99eba472",
   "metadata": {},
   "source": [
    "## **Conclusion**\n",
    "\n",
    "In this notebook, we covered:\n",
    "1. XML basics and handling in Python.\n",
    "2. SVG creation and manipulation as an XML-based format.\n",
    "3. How SVGs serve as a bridge to interactive graphics and tools like Inkscape.\n",
    "\n",
    "Using SVG layers makes it easier to organize complex graphics, apply transformations, and style groups of elements. Combining Python and SVG allows us to dynamically create, manipulate, and experiment with layered graphics programmatically. These skills are essential for designing scalable and reusable visual content."
   ]
  },
  {
   "cell_type": "code",
   "execution_count": null,
   "id": "fa9bab5e",
   "metadata": {},
   "outputs": [],
   "source": []
  }
 ],
 "metadata": {
  "kernelspec": {
   "display_name": "Python 3 (ipykernel)",
   "language": "python",
   "name": "python3"
  },
  "language_info": {
   "codemirror_mode": {
    "name": "ipython",
    "version": 3
   },
   "file_extension": ".py",
   "mimetype": "text/x-python",
   "name": "python",
   "nbconvert_exporter": "python",
   "pygments_lexer": "ipython3",
   "version": "3.9.7"
  }
 },
 "nbformat": 4,
 "nbformat_minor": 5
}
