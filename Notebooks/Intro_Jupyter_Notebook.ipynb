{
 "cells": [
  {
   "cell_type": "markdown",
   "id": "032ba463",
   "metadata": {},
   "source": [
    "# Jupyter Notebooks"
   ]
  },
  {
   "cell_type": "markdown",
   "id": "fb0578f0",
   "metadata": {},
   "source": [
    "## Getting Started\n",
    "\n",
    "### Jupyter Notebooks\n",
    "Jupyter is an open-source project that allows you to create and share documents containing live code, equations, visualizations, and narrative text. The term \"Jupyter\" is a combination of three core programming languages it supports: Julia, Python, and R (JUlia+PYThon+eR = JUPYTER).\n",
    "\n",
    "Jupyter Notebooks are an essential tool for interactive and collaborative computing. They allow you to create and share documents that contain live code, equations, visualizations, and narrative text. In this course, we will use Jupyter Notebooks to generate NFTs using Python and Inkscape.\n"
   ]
  },
  {
   "cell_type": "markdown",
   "id": "cda3f183",
   "metadata": {},
   "source": [
    "## How to Install Jupyter?\n",
    "\n",
    "Jupyter Notebook can be installed following the instructions on the Jupyter website: [Jupyter Installation](https://jupyter.org/install).\n",
    "\n",
    "### Windows Installation\n",
    "\n",
    "#### Using pip (after installing Python):\n",
    "1. Open a command prompt \"Windows key\"+\"R\" and then type \"cmd\" and then hit the enter key or click on run button.\n",
    "2. Run the command `pip install jupyter`.\n",
    "3. Start Jupyter Notebook by typing `jupyter notebook`.\n",
    "\n",
    "#### Using Anaconda:\n",
    "1. Download and install Anaconda from the official website.\n",
    "2. Open Anaconda Navigator and launch Jupyter Notebook from the Home tab.\n",
    "\n",
    "\n",
    "### Linux Installation\n",
    "\n",
    "#### Using pip:\n",
    "1. Open a terminal \"Ctrl\" + \"Alt\" + \"T\".\n",
    "2. Run the command `pip install jupyter`.\n",
    "3. Start Jupyter Notebook by typing `jupyter notebook`.\n",
    "\n",
    "#### Using Anaconda:\n",
    "1. Download and install Anaconda from the official website.\n",
    "2. Open Anaconda Navigator and launch Jupyter Notebook from the Home tab."
   ]
  },
  {
   "cell_type": "markdown",
   "id": "7dcfc61c",
   "metadata": {},
   "source": []
  },
  {
   "cell_type": "markdown",
   "id": "7516aa46",
   "metadata": {},
   "source": [
    "### Components of a Jupyter Notebook\n",
    "\n",
    "Jupyter interface components provide an intuitive interface for creating, editing, and running interactive documents within the Notebook.\n",
    "\n",
    "#### Header Bar\n",
    "The header bar is located at the top of the Jupyter Notebook interface and displays the name of the currently opened notebook, along with basic controls such as saving the notebook and running all cells.\n",
    "\n",
    "#### Menu Bar\n",
    "The menu bar provides a variety of dropdown menus for performing actions like creating new cells, editing existing cells, running code, inserting widgets, and accessing notebook settings and extensions.\n",
    "\n",
    "#### Toolbar\n",
    "The toolbar offers quick access to frequently used commands and functions, such as creating new cells, cutting, copying, pasting cells, moving cells up and down, running cells, stopping the kernel, and more.\n",
    "\n",
    "\n",
    "#### Jupyter Cell\n",
    "In a Jupyter Notebook, there are primarily two main types of cells:\n",
    "\n",
    "**To Execute a Cell: click on \"Cell >> Run Cell\"**\n",
    "\n",
    "1. **Code Cells**:\n",
    "    - These cells are used to write and execute code.\n",
    "    - They support various programming languages, but Python is the most commonly used.\n",
    "    - When you run a code cell, the output is displayed directly below the cell.\n",
    "\n",
    "    Example:\n",
    "    Create a cell below, then copy and paste the following code to the new cell and execute it.\n",
    "    ```python\n",
    "    print(\"Hello, Jupyter!\")\n",
    "    ```"
   ]
  },
  {
   "cell_type": "code",
   "execution_count": null,
   "id": "58277898",
   "metadata": {},
   "outputs": [],
   "source": []
  },
  {
   "cell_type": "markdown",
   "id": "d855bdd8",
   "metadata": {},
   "source": [
    "2. **Markdown Cells**:\n",
    "    - These cells are used to write formatted text.\n",
    "    - They support Markdown syntax, allowing you to include headings, lists, links, images, LaTeX equations, and more.\n",
    "    - Markdown cells are not executed as code but are rendered as formatted text."
   ]
  },
  {
   "cell_type": "markdown",
   "id": "d45b0bb3",
   "metadata": {},
   "source": [
    "**To convert a code cell into Markdown: In the tool bar use the drop box OR \"Esc\" + \"m\"**\n",
    " \n",
    "```markdown\n",
    " Example:\n",
    "Create a cell below, convert it into Mrakdown cell then copy and paste the following text to the new cell and execute it.\n",
    "    # This is a Heading\n",
    "    - This is a bullet point\n",
    "    - This is another bullet point\n",
    "\n",
    "```"
   ]
  },
  {
   "cell_type": "markdown",
   "id": "917b03dd",
   "metadata": {},
   "source": [
    "## Kernel\n",
    "\n",
    "   The kernel is the computational engine that executes the code contained in the notebook. Each notebook is associated with a specific kernel. In this course, we will primarily use the Python kernel.\n",
    "\n",
    "## Getting Started\n",
    "\n",
    "   To start Jupyter Notebook, run the command `jupyter notebook` in your terminal or command prompt. This will open a new tab in your default web browser, displaying the Jupyter dashboard.\n",
    "\n",
    "\n",
    "\n",
    "## Writing and Executing Code\n",
    "\n",
    "   You can write and execute Python code directly in the notebook cells. For example:\n",
    "   ```\n",
    "\n",
    "```python\n",
    "print(\"Hello, Jupyter!\")\n",
    "```\n",
    "\n",
    "## Conclusion\n",
    "   Jupyter Notebooks provide a versatile and interactive environment for data analysis, research, and collaborative coding. As we progress through this course, you'll see how Jupyter Notebooks can enhance your workflow and make the process of generating NFTs more efficient and enjoyable."
   ]
  },
  {
   "cell_type": "markdown",
   "id": "d8c503e6",
   "metadata": {},
   "source": [
    "## Keyboard Shortcuts\n",
    "\n",
    "Jupyter Notebooks come with a variety of keyboard shortcuts to enhance your workflow. These shortcuts are divided into two modes: Command Mode and Edit Mode.\n",
    "Command Mode Shortcuts (Press Esc to enter Command Mode):\n",
    "\n",
    "    A: Insert a new cell above the current cell.\n",
    "    B: Insert a new cell below the current cell.\n",
    "    M: Change the cell type to Markdown.\n",
    "    Y: Change the cell type to Code.\n",
    "    D D (Press D twice): Delete the current cell.\n",
    "    Z: Undo the last cell operation.\n",
    "    Shift + Up/Down: Select multiple cells.\n",
    "    Shift + M: Merge selected cells.\n",
    "\n",
    "Edit Mode Shortcuts (Press Enter to enter Edit Mode):\n",
    "\n",
    "    Ctrl + Enter: Run the current cell.\n",
    "    Shift + Enter: Run the current cell and move to the next cell.\n",
    "    Alt + Enter: Run the current cell and insert a new cell below.\n",
    "    Ctrl + /: Comment/uncomment selected lines.\n",
    "    Ctrl + Shift + -: Split the cell at the cursor position.\n",
    "    Ctrl + Shift + P: Open the command palette for more options.\n",
    "\n",
    "For a full list of shortcuts, you can go to \"Help\" -> \"Keyboard Shortcuts\" in the Jupyter Notebook interface."
   ]
  },
  {
   "cell_type": "markdown",
   "id": "340a7c71",
   "metadata": {},
   "source": [
    "## **Exercises**\n",
    "\n",
    "### **Beginner Level**\n",
    "1. **Creating a Code Cell:**\n",
    "   - Create a new code cell and write a Python program to calculate the sum of two numbers:\n",
    "     ```python\n",
    "     num1 = 10\n",
    "     num2 = 20\n",
    "     print(num1 + num2)\n",
    "     ```\n",
    "\n",
    "2. **Creating a Markdown Cell:**\n",
    "   - Create a new markdown cell and format the following text:\n",
    "     ```\n",
    "     # Markdown Exercise\n",
    "     - This is a bullet point\n",
    "     - [Click here to learn more about Markdown](https://commonmark.org/help/)\n",
    "     ```\n",
    "\n",
    "3. **Simple Print Function:**\n",
    "   - Create a cell and use the `print()` function to display:\n",
    "     ```\n",
    "     Welcome to Jupyter Notebooks!\n",
    "     ```\n",
    "\n",
    "---\n",
    "\n",
    "### **Intermediate Level**\n",
    "4. **Write Markdown Instructions:**\n",
    "   - In a markdown cell, create a set of instructions for writing a program that calculates the area of a rectangle. Your markdown should include:\n",
    "     - A heading\n",
    "     - A code example for calculating the area.\n"
   ]
  },
  {
   "cell_type": "code",
   "execution_count": null,
   "id": "09873e47",
   "metadata": {},
   "outputs": [],
   "source": []
  }
 ],
 "metadata": {
  "kernelspec": {
   "display_name": "Python 3 (ipykernel)",
   "language": "python",
   "name": "python3"
  },
  "language_info": {
   "codemirror_mode": {
    "name": "ipython",
    "version": 3
   },
   "file_extension": ".py",
   "mimetype": "text/x-python",
   "name": "python",
   "nbconvert_exporter": "python",
   "pygments_lexer": "ipython3",
   "version": "3.9.7"
  }
 },
 "nbformat": 4,
 "nbformat_minor": 5
}
