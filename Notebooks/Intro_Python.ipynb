{
 "cells": [
  {
   "cell_type": "markdown",
   "id": "032ba463",
   "metadata": {},
   "source": [
    "# Introduction to Python"
   ]
  },
  {
   "cell_type": "markdown",
   "id": "fb0578f0",
   "metadata": {},
   "source": [
    "## Getting Started\n",
    "Python is a powerful, high-level, and versatile programming language that is widely used in various fields, including web development, data science, artificial intelligence, scientific computing, and more. It was created by Guido van Rossum and first released in 1991. Python is known for its simplicity, readability, and an extensive collection of libraries and frameworks that make it easy to solve complex problems efficiently.\n",
    "\n",
    "## Basics of Python\n",
    "1. Variables and Data Types\n",
    "Let's start with creating variables and exploring different data types:"
   ]
  },
  {
   "cell_type": "code",
   "execution_count": null,
   "id": "427a33cc",
   "metadata": {},
   "outputs": [],
   "source": [
    "# This is a comment in Python\n",
    "# Variables\n",
    "name = \"John\" \n",
    "age = 25\n",
    "height = 1.75\n",
    "is_student = False\n",
    "\n",
    "# Printing values\n",
    "print(\"Name:\", name,', ',\"Type:\", type(name))\n",
    "print(\"Age:\", age,', ',\"Type:\", type(age))\n",
    "print(\"Height:\", height,', ',\"Type:\", type(height))\n",
    "print(\"Is Student?\", is_student,', ',\"Type:\", type(is_student))"
   ]
  },
  {
   "cell_type": "markdown",
   "id": "f33e2d0a",
   "metadata": {},
   "source": [
    "2. Lists and Dictionaries\n",
    "\n",
    "Python provides data structures like lists and dictionaries:"
   ]
  },
  {
   "cell_type": "code",
   "execution_count": null,
   "id": "16709085",
   "metadata": {},
   "outputs": [],
   "source": [
    "# Lists\n",
    "fruits = [\"apple\", \"banana\", \"orange\"]\n",
    "numbers = [1, 2, 3, 4, 5]\n",
    "\n",
    "# Dictionaries\n",
    "person = {\"name\": \"Alice\", \"age\": 30, \"is_student\": True}\n",
    "\n",
    "# Accessing elements\n",
    "print(\"Fruits:\", fruits)\n",
    "print(\"Second fruit:\", fruits[1])\n",
    "print(\"Person:\", person)\n",
    "print(\"Age:\", person[\"age\"])"
   ]
  },
  {
   "cell_type": "markdown",
   "id": "de82614e",
   "metadata": {},
   "source": [
    "3. Control Flow\n",
    "\n",
    "Python supports if statements and loops:"
   ]
  },
  {
   "cell_type": "code",
   "execution_count": null,
   "id": "4bafe392",
   "metadata": {},
   "outputs": [],
   "source": [
    "# If statement\n",
    "x = 10\n",
    "if x > 5:\n",
    "    print(\"x is greater than 5\")\n",
    "else:\n",
    "    print(\"x is not greater than 5\")\n",
    "\n",
    "# Loop\n",
    "for fruit in fruits:\n",
    "    print(fruit)"
   ]
  },
  {
   "cell_type": "markdown",
   "id": "1994317b",
   "metadata": {},
   "source": [
    "4. Functions\n",
    "\n",
    "Define and call functions:"
   ]
  },
  {
   "cell_type": "code",
   "execution_count": null,
   "id": "68bf2ef8",
   "metadata": {},
   "outputs": [],
   "source": [
    "# Function definition\n",
    "def greet(name):\n",
    "    return \"Hello, \" + name + \"!\"\n",
    "\n",
    "# Function call\n",
    "message = greet(\"Bob\")\n",
    "print(message)"
   ]
  },
  {
   "cell_type": "markdown",
   "id": "b6b22e47",
   "metadata": {},
   "source": [
    "5. Handling Strings\n",
    "\n",
    "Python offers various string manipulation functions:"
   ]
  },
  {
   "cell_type": "code",
   "execution_count": null,
   "id": "ffde93f5",
   "metadata": {},
   "outputs": [],
   "source": [
    "# String concatenation\n",
    "greeting = \"Hello\"\n",
    "name = \"Alice\"\n",
    "full_greeting = greeting + \", \" + name\n",
    "print(full_greeting)\n",
    "\n",
    "# String formatting\n",
    "formatted_greeting = \"{}! How are you, {}?\".format(greeting, name)\n",
    "print(formatted_greeting)\n",
    "\n",
    "# String methods\n",
    "uppercase_name = name.upper()\n",
    "print(\"Uppercase Name:\", uppercase_name)"
   ]
  },
  {
   "cell_type": "markdown",
   "id": "187581f4",
   "metadata": {},
   "source": [
    "8. Importing Modules\n",
    "\n",
    "Python modules are pre-written code libraries that provide additional functionality. You can import them into your script using the import statement. Let's import the math module as an example:"
   ]
  },
  {
   "cell_type": "code",
   "execution_count": null,
   "id": "c93eba87",
   "metadata": {},
   "outputs": [],
   "source": [
    "# Importing the math module\n",
    "import math\n",
    "\n",
    "# Using math module functions\n",
    "print(\"Square root of 16:\", math.sqrt(16))\n",
    "print(\"Value of pi:\", math.pi)"
   ]
  },
  {
   "cell_type": "markdown",
   "id": "0c3cf6ce",
   "metadata": {},
   "source": [
    "### Important Python Modules\n",
    "1. **math Module**\n",
    "\n",
    "The math module provides mathematical functions.\n",
    "\n",
    "2. **os Module**\n",
    "\n",
    "The os module provides a way of using operating system-dependent functionality.\n",
    "\n",
    "3. **random Module**\n",
    "\n",
    "The random module provides functions for generating random numbers.\n",
    "\n",
    "4. **datetime Module**\n",
    "\n",
    "The datetime module supplies classes for working with dates and times.\n",
    "\n",
    "5. **requests Module**\n",
    "\n",
    "The requests module allows you to send HTTP requests using Python.\n",
    "\n",
    "6. **numpy Module**\n",
    "\n",
    "The numpy module is a fundamental package for scientific computing in Python. \n",
    "\n",
    "7. **scipy Module**\n",
    "\n",
    "The scipy module builds on top of numpy and provides additional functionality for scientific and technical computing. \n",
    "\n",
    "8. **xml Module**\n",
    "\n",
    "The xml module in Python is a part of the standard library and provides functionalities for working with XML (eXtensible Markup Language). XML is a widely used markup language for representing structured data. The xml module allows you to parse, generate, and manipulate XML documents."
   ]
  },
  {
   "cell_type": "code",
   "execution_count": null,
   "id": "67162376",
   "metadata": {},
   "outputs": [],
   "source": [
    "import xml.etree.ElementTree as ET\n",
    "\n",
    "xml_string = \"<root><element1>Value 1</element1><element2>Value 2</element2></root>\"\n",
    "root = ET.fromstring(xml_string)"
   ]
  },
  {
   "cell_type": "markdown",
   "id": "d8c503e6",
   "metadata": {},
   "source": [
    "## Keyboard Shortcuts\n",
    "\n",
    "Jupyter Notebooks come with a variety of keyboard shortcuts to enhance your workflow. These shortcuts are divided into two modes: Command Mode and Edit Mode.\n",
    "Command Mode Shortcuts (Press Esc to enter Command Mode):\n",
    "\n",
    "    A: Insert a new cell above the current cell.\n",
    "    B: Insert a new cell below the current cell.\n",
    "    M: Change the cell type to Markdown.\n",
    "    Y: Change the cell type to Code.\n",
    "    D D (Press D twice): Delete the current cell.\n",
    "    Z: Undo the last cell operation.\n",
    "    Shift + Up/Down: Select multiple cells.\n",
    "    Shift + M: Merge selected cells.\n",
    "\n",
    "Edit Mode Shortcuts (Press Enter to enter Edit Mode):\n",
    "\n",
    "    Ctrl + Enter: Run the current cell.\n",
    "    Shift + Enter: Run the current cell and move to the next cell.\n",
    "    Alt + Enter: Run the current cell and insert a new cell below.\n",
    "    Ctrl + /: Comment/uncomment selected lines.\n",
    "    Ctrl + Shift + -: Split the cell at the cursor position.\n",
    "    Ctrl + Shift + P: Open the command palette for more options.\n",
    "\n",
    "For a full list of shortcuts, you can go to \"Help\" -> \"Keyboard Shortcuts\" in the Jupyter Notebook interface."
   ]
  },
  {
   "cell_type": "markdown",
   "id": "3a19a3e8",
   "metadata": {},
   "source": [
    "\n",
    "## **Exercises**\n",
    "\n",
    "### **Exercise 1: Variables and Data Types**\n",
    "1. Create variables `city`, `population`, and `area` to store the name of a city, its population, and its area (in square kilometers), based on the table below. Assign appropriate values to these variables.\n",
    "\n",
    "\n",
    "| **City**        | **Population** | **Area (km²)** |\n",
    "|------------------|----------------|-----------------|\n",
    "| New York City    | 8,336,817      | 783.8          |\n",
    "| Tokyo            | 13,960,236     | 2,194.1        |\n",
    "| Paris            | 2,161,000      | 105.4          |\n",
    "| Sydney           | 5,312,163      | 12,367.7       |\n",
    "\n",
    "\n",
    "\n",
    "2. Calculate the population density (people per square kilometer) using the formula:  \n",
    "   ```\n",
    "   population_density = population / area\n",
    "   ```\n",
    "   Print the result."
   ]
  },
  {
   "cell_type": "code",
   "execution_count": null,
   "id": "6ffa97aa",
   "metadata": {},
   "outputs": [],
   "source": []
  },
  {
   "cell_type": "markdown",
   "id": "77e17360",
   "metadata": {},
   "source": [
    "### **Exercise 2: Lists and Dictionaries**\n",
    "1. Create a list called `colors` containing the names of 5 colors.\n",
    "2. Access and print the second color in the list.\n",
    "3. Create a dictionary called `student` with the following key-value pairs:\n",
    "   - `name`: \"Alice\"\n",
    "   - `age`: 21\n",
    "   - `is_enrolled`: True  \n",
    "   Print the value associated with the key `name`."
   ]
  },
  {
   "cell_type": "code",
   "execution_count": null,
   "id": "9171b28f",
   "metadata": {},
   "outputs": [],
   "source": []
  },
  {
   "cell_type": "markdown",
   "id": "c6fdb353",
   "metadata": {},
   "source": [
    "\n",
    "### **Exercise 3: Control Flow**\n",
    "1. Write an `if-else` statement to check if a number is positive, negative, or zero. The number should be stored in a variable called `number`.\n",
    "2. Use a `for` loop to iterate through the list `colors` (created in Exercise 2) and print each color.\n"
   ]
  },
  {
   "cell_type": "code",
   "execution_count": null,
   "id": "1988a793",
   "metadata": {},
   "outputs": [],
   "source": []
  },
  {
   "cell_type": "markdown",
   "id": "fb4417f9",
   "metadata": {},
   "source": [
    "### **Exercise 4: Functions**\n",
    "1. Write a function `add_numbers(a, b)` that takes two numbers as arguments and returns their sum. Test the function with two numbers of your choice.\n",
    "2. Write another function `is_even(n)` that checks if a number `n` is even. It should return `True` if the number is even and `False` otherwise. Test the function with a few examples."
   ]
  },
  {
   "cell_type": "code",
   "execution_count": null,
   "id": "1611cfc3",
   "metadata": {},
   "outputs": [],
   "source": []
  },
  {
   "cell_type": "markdown",
   "id": "326e591a",
   "metadata": {},
   "source": [
    "### **Exercise 5: String Manipulation**\n",
    "1. Write a program to reverse the string `\"Jupyter\"` and print the result.\n",
    "2. Create a string variable called `sentence` with the value `\"Python programming is fun!\"`. Count the number of occurrences of the letter `i` in the string using the `.count()` method."
   ]
  },
  {
   "cell_type": "code",
   "execution_count": null,
   "id": "1d337fc1",
   "metadata": {},
   "outputs": [],
   "source": []
  },
  {
   "cell_type": "markdown",
   "id": "63403703",
   "metadata": {},
   "source": [
    "### **Exercise 6: Importing Modules**\n",
    "1. Import the `math` module and calculate:\n",
    "   - The square root of 64.\n",
    "   - The value of `cos(0)` in radians.\n",
    "2. Import the `random` module and:\n",
    "   - Generate a random integer between 1 and 100.\n",
    "   - Pick a random element from the list `colors`.\n"
   ]
  },
  {
   "cell_type": "code",
   "execution_count": null,
   "id": "091a1085",
   "metadata": {},
   "outputs": [],
   "source": []
  },
  {
   "cell_type": "markdown",
   "id": "557e82f7",
   "metadata": {},
   "source": [
    "### **Challenge Exercise**\n",
    "1. Write a program to create a multiplication table for numbers from 1 to 10. Use nested loops to print the table in a well-formatted grid.\n",
    "2. Create a function `get_grade(score)` that takes a test score as input and returns the grade based on the following scale:\n",
    "   - 90 and above: \"A\"\n",
    "   - 80-89: \"B\"\n",
    "   - 70-79: \"C\"\n",
    "   - 60-69: \"D\"\n",
    "   - Below 60: \"F\"  \n",
    "   Test the function with a few examples."
   ]
  },
  {
   "cell_type": "code",
   "execution_count": null,
   "id": "daa052ed",
   "metadata": {},
   "outputs": [],
   "source": []
  }
 ],
 "metadata": {
  "kernelspec": {
   "display_name": "Python 3 (ipykernel)",
   "language": "python",
   "name": "python3"
  },
  "language_info": {
   "codemirror_mode": {
    "name": "ipython",
    "version": 3
   },
   "file_extension": ".py",
   "mimetype": "text/x-python",
   "name": "python",
   "nbconvert_exporter": "python",
   "pygments_lexer": "ipython3",
   "version": "3.9.7"
  }
 },
 "nbformat": 4,
 "nbformat_minor": 5
}
